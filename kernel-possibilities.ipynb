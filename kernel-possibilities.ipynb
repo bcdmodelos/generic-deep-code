{
 "cells": [
  {
   "cell_type": "markdown",
   "metadata": {},
   "source": [
    "## Code to generate all valid kernel combinations"
   ]
  },
  {
   "cell_type": "code",
   "execution_count": 1,
   "metadata": {},
   "outputs": [],
   "source": [
    "import csv\n",
    "import itertools\n",
    "import numpy as np\n",
    "import pandas as pd\n",
    "from scipy.linalg import LinAlgError\n",
    "from sklearn.metrics import mean_squared_error\n",
    "from sklearn.gaussian_process import GaussianProcessRegressor\n",
    "from sklearn.gaussian_process.kernels import ConstantKernel, DotProduct, ExpSineSquared, Matern, RBF, RationalQuadratic, WhiteKernel"
   ]
  },
  {
   "cell_type": "markdown",
   "metadata": {},
   "source": [
    "### Functions"
   ]
  },
  {
   "cell_type": "code",
   "execution_count": 2,
   "metadata": {},
   "outputs": [],
   "source": [
    "def generate_combinations_with_repetition(kernels, operation):\n",
    "    combinations = []\n",
    "    for r in range(2, 5):\n",
    "        for comb in itertools.combinations_with_replacement(kernels, r):\n",
    "            combinations.append(f\" {operation} \".join(comb))\n",
    "    return combinations"
   ]
  },
  {
   "cell_type": "code",
   "execution_count": 3,
   "metadata": {},
   "outputs": [],
   "source": [
    "def generate_permutations_with_repetition(kernels, operations):\n",
    "    permutations = []\n",
    "    for r in range(2, 5):\n",
    "        for perm in itertools.product(kernels, repeat=r):\n",
    "            for ops in itertools.product(operations, repeat=r-1):\n",
    "                expr = \"\"\n",
    "                for i in range(r-1):\n",
    "                    expr += f\"{perm[i]}{ops[i]} \"\n",
    "                expr += perm[-1]\n",
    "                permutations.append(expr)\n",
    "    return permutations"
   ]
  },
  {
   "cell_type": "markdown",
   "metadata": {},
   "source": [
    "### Combinations"
   ]
  },
  {
   "cell_type": "code",
   "execution_count": 4,
   "metadata": {},
   "outputs": [],
   "source": [
    "kernels = ['ConstantKernel()', 'DotProduct()', 'ExpSineSquared()', 'Matern()', 'RBF()', 'RationalQuadratic()', 'WhiteKernel()']\n",
    "operations = ['*', '+']"
   ]
  },
  {
   "cell_type": "code",
   "execution_count": 5,
   "metadata": {},
   "outputs": [],
   "source": [
    "combinations = []\n",
    "for op in operations:\n",
    "    combinations += generate_combinations_with_repetition(kernels, op)\n",
    "\n",
    "permutations = generate_permutations_with_repetition(kernels, operations)\n",
    "\n",
    "all_combinations = combinations + permutations"
   ]
  },
  {
   "cell_type": "code",
   "execution_count": 7,
   "metadata": {},
   "outputs": [],
   "source": [
    "for i in kernels:\n",
    "  all_combinations.append(eval(i))"
   ]
  },
  {
   "cell_type": "markdown",
   "metadata": {},
   "source": [
    "### Generate File with all kernel combinations"
   ]
  },
  {
   "cell_type": "code",
   "execution_count": 9,
   "metadata": {},
   "outputs": [],
   "source": [
    "file_name = f\"dataset/dataset_possibilities/kernel_possibilities.csv\""
   ]
  },
  {
   "cell_type": "code",
   "execution_count": 10,
   "metadata": {},
   "outputs": [
    {
     "name": "stdout",
     "output_type": "stream",
     "text": [
      "Data saved in <_io.TextIOWrapper name='dataset/dataset_possibilities/kernel_possibilities.csv' mode='w' encoding='cp1252'>\n"
     ]
    }
   ],
   "source": [
    "with open(file_name, 'w', newline='') as file_csv:\n",
    "    writer = csv.writer(file_csv)\n",
    "    writer.writerow(['kernel_str'])\n",
    "    for kernel in all_combinations:\n",
    "        writer.writerow([kernel])\n",
    "\n",
    "print(f\"Data saved in {file_csv}\")"
   ]
  }
 ],
 "metadata": {
  "kernelspec": {
   "display_name": "Python 3",
   "language": "python",
   "name": "python3"
  },
  "language_info": {
   "codemirror_mode": {
    "name": "ipython",
    "version": 3
   },
   "file_extension": ".py",
   "mimetype": "text/x-python",
   "name": "python",
   "nbconvert_exporter": "python",
   "pygments_lexer": "ipython3",
   "version": "3.12.3"
  }
 },
 "nbformat": 4,
 "nbformat_minor": 2
}
