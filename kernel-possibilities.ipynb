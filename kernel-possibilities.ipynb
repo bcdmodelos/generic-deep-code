{
 "cells": [
  {
   "cell_type": "code",
   "execution_count": 1,
   "metadata": {},
   "outputs": [],
   "source": [
    "import re\n",
    "import csv\n",
    "import numpy as np\n",
    "import pandas as pd\n",
    "from tqdm import tqdm\n",
    "from sklearn.metrics import r2_score\n",
    "from joblib import Parallel, delayed\n",
    "from itertools import combinations_with_replacement\n",
    "from sklearn.gaussian_process import GaussianProcessRegressor\n",
    "from sklearn.gaussian_process.kernels import ConstantKernel, DotProduct, ExpSineSquared, Matern, RBF, RationalQuadratic, WhiteKernel"
   ]
  },
  {
   "cell_type": "markdown",
   "metadata": {},
   "source": [
    "### Dataset"
   ]
  },
  {
   "cell_type": "code",
   "execution_count": 2,
   "metadata": {},
   "outputs": [],
   "source": [
    "data = f\"dataset/dataset-essential/constant_series.csv\"\n",
    "df = pd.read_csv(data)\n",
    "X = df['value'].to_numpy()"
   ]
  },
  {
   "cell_type": "markdown",
   "metadata": {},
   "source": [
    "### Functions"
   ]
  },
  {
   "cell_type": "code",
   "execution_count": 3,
   "metadata": {},
   "outputs": [],
   "source": [
    "def substitute_constant_kernel(kernels_list):\n",
    "    for idx, kernel in enumerate(kernels_list):\n",
    "        kernel_str = str(kernel)\n",
    "        kernel_str = re.sub(r'1\\*\\*2', 'ConstantKernel()', kernel_str)\n",
    "        kernels_list[idx] = kernel_str\n",
    "    return kernels_list"
   ]
  },
  {
   "cell_type": "code",
   "execution_count": 4,
   "metadata": {},
   "outputs": [],
   "source": [
    "def is_pos_def(x):\n",
    "  return np.all(np.linalg.eigvals(x) > 0) and np.allclose(x, x.T)"
   ]
  },
  {
   "cell_type": "code",
   "execution_count": 5,
   "metadata": {},
   "outputs": [],
   "source": [
    "def process_kernel_combination(kernel_str, X):\n",
    "  try:\n",
    "    from sklearn.gaussian_process.kernels import ConstantKernel, RBF, Matern, RationalQuadratic, ExpSineSquared, DotProduct, WhiteKernel\n",
    "    kernel_combinado = eval(kernel_str)\n",
    "    matriz_cov_combinacao_kernels = kernel_combinado(X)\n",
    "\n",
    "    if is_pos_def(matriz_cov_combinacao_kernels):\n",
    "      return kernel_combinado\n",
    "\n",
    "  except TypeError:\n",
    "    pass\n",
    "\n",
    "  return None"
   ]
  },
  {
   "cell_type": "markdown",
   "metadata": {},
   "source": [
    "### Combinations"
   ]
  },
  {
   "cell_type": "code",
   "execution_count": 6,
   "metadata": {},
   "outputs": [],
   "source": [
    "kernels_k = []\n",
    "kernels_y = []\n",
    "kernels_total = []"
   ]
  },
  {
   "cell_type": "code",
   "execution_count": 7,
   "metadata": {},
   "outputs": [],
   "source": [
    "kernels = ['ConstantKernel()', 'DotProduct()', 'ExpSineSquared()', 'Matern()', 'RBF()', 'RationalQuadratic()', 'WhiteKernel()']\n",
    "operations = ['*', '+']"
   ]
  },
  {
   "cell_type": "markdown",
   "metadata": {},
   "source": [
    "##### 1. Combinations k1"
   ]
  },
  {
   "cell_type": "code",
   "execution_count": 8,
   "metadata": {},
   "outputs": [],
   "source": [
    "for i in kernels:\n",
    "  kernels_k.append(eval(i))\n",
    "  kernels_y.append(eval(i))"
   ]
  },
  {
   "cell_type": "markdown",
   "metadata": {},
   "source": [
    "##### 2. Combinations k1_k2"
   ]
  },
  {
   "cell_type": "code",
   "execution_count": 9,
   "metadata": {},
   "outputs": [],
   "source": [
    "n_k = 2\n",
    "n_op = 1\n",
    "\n",
    "two_elements = list(combinations_with_replacement(kernels, n_k))\n",
    "combinations_two = [f\"{elem1} {op} {elem2}\" for elem1, elem2 in two_elements for op in operations]"
   ]
  },
  {
   "cell_type": "markdown",
   "metadata": {},
   "source": [
    "2.1 Validate kernel k1_k2"
   ]
  },
  {
   "cell_type": "code",
   "execution_count": 10,
   "metadata": {},
   "outputs": [
    {
     "name": "stderr",
     "output_type": "stream",
     "text": [
      "Progress: 100%|██████████| 56/56 [00:01<00:00, 34.61kernels/s]\n"
     ]
    }
   ],
   "source": [
    "results_two = Parallel(n_jobs=-1)(delayed(process_kernel_combination)(element, X) for element in tqdm(combinations_two, desc='Progress', unit='kernels', position=0, leave=True))"
   ]
  },
  {
   "cell_type": "code",
   "execution_count": 11,
   "metadata": {},
   "outputs": [],
   "source": [
    "kernels_k.extend([result for result in results_two if result is not None])"
   ]
  },
  {
   "cell_type": "markdown",
   "metadata": {},
   "source": [
    "##### 3. Combinations k1_k2_k3"
   ]
  },
  {
   "cell_type": "code",
   "execution_count": 12,
   "metadata": {},
   "outputs": [],
   "source": [
    "n_k = 3\n",
    "n_op = 2\n",
    "\n",
    "three_elements = list(combinations_with_replacement(kernels, n_k))\n",
    "two_operations = list(combinations_with_replacement(operations, n_op))\n",
    "combinations_three = [f\"{elem1} {op1} {elem2} {op2} {elem3}\" for elem1, elem2, elem3 in three_elements for op1, op2 in two_operations]"
   ]
  },
  {
   "cell_type": "markdown",
   "metadata": {},
   "source": [
    "3.1 Validate Kernel k1_k2_k3"
   ]
  },
  {
   "cell_type": "code",
   "execution_count": 13,
   "metadata": {},
   "outputs": [
    {
     "name": "stderr",
     "output_type": "stream",
     "text": [
      "Progress: 100%|██████████| 252/252 [00:00<00:00, 4618.95kernels/s]\n"
     ]
    }
   ],
   "source": [
    "results_three = Parallel(n_jobs=-1)(delayed(process_kernel_combination)(element, X) for element in tqdm(combinations_three, desc='Progress', unit='kernels', position=0, leave=True))"
   ]
  },
  {
   "cell_type": "code",
   "execution_count": 14,
   "metadata": {},
   "outputs": [],
   "source": [
    "kernels_k.extend([result for result in results_three if result is not None])"
   ]
  },
  {
   "cell_type": "markdown",
   "metadata": {},
   "source": [
    "##### 4. Combinations k1_k2_k3_k4"
   ]
  },
  {
   "cell_type": "code",
   "execution_count": 15,
   "metadata": {},
   "outputs": [],
   "source": [
    "n_k = 4\n",
    "n_op = 3\n",
    "\n",
    "four_elements = list(combinations_with_replacement(kernels, n_k))\n",
    "three_operations = list(combinations_with_replacement(operations, n_op))\n",
    "combinations_four = [f\"{elem1} {op1} {elem2} {op2} {elem3} {op3} {elem4}\" for elem1, elem2, elem3, elem4 in four_elements for op1, op2, op3 in three_operations]"
   ]
  },
  {
   "cell_type": "markdown",
   "metadata": {},
   "source": [
    "4.1 Validate kernel k1_k2_k3_k4"
   ]
  },
  {
   "cell_type": "code",
   "execution_count": 16,
   "metadata": {},
   "outputs": [
    {
     "name": "stderr",
     "output_type": "stream",
     "text": [
      "Progress: 100%|██████████| 840/840 [00:00<00:00, 8156.29kernels/s]\n"
     ]
    }
   ],
   "source": [
    "results_four = Parallel(n_jobs=-1)(delayed(process_kernel_combination)(element, X) for element in tqdm(combinations_four, desc='Progress', unit='kernels', position=0, leave=True))"
   ]
  },
  {
   "cell_type": "code",
   "execution_count": 17,
   "metadata": {},
   "outputs": [],
   "source": [
    "kernels_k.extend([result for result in results_four if result is not None])"
   ]
  },
  {
   "cell_type": "markdown",
   "metadata": {},
   "source": [
    "##### 5. Combinations k1_k2_k3_k4_k5"
   ]
  },
  {
   "cell_type": "code",
   "execution_count": 18,
   "metadata": {},
   "outputs": [],
   "source": [
    "n_k = 5\n",
    "n_op = 4\n",
    "\n",
    "five_elements = list(combinations_with_replacement(kernels, n_k))\n",
    "four_operations = list(combinations_with_replacement(operations, n_op))\n",
    "combinations_five = [f\"{elem1} {op1} {elem2} {op2} {elem3} {op3} {elem4} {op4} {elem5}\" for elem1, elem2, elem3, elem4, elem5 in five_elements for op1, op2, op3, op4 in four_operations]"
   ]
  },
  {
   "cell_type": "markdown",
   "metadata": {},
   "source": [
    "5.1 Validate kernel k1_k2_k3_k4_k5"
   ]
  },
  {
   "cell_type": "code",
   "execution_count": 19,
   "metadata": {},
   "outputs": [
    {
     "name": "stderr",
     "output_type": "stream",
     "text": [
      "Progress: 100%|██████████| 2310/2310 [00:00<00:00, 11190.84kernels/s]\n"
     ]
    }
   ],
   "source": [
    "results_five = Parallel(n_jobs=-1)(delayed(process_kernel_combination)(element, X) for element in tqdm(combinations_five, desc='Progress', unit='kernels', position=0, leave=True))"
   ]
  },
  {
   "cell_type": "code",
   "execution_count": 20,
   "metadata": {},
   "outputs": [],
   "source": [
    "kernels_k.extend([result for result in results_five if result is not None])"
   ]
  },
  {
   "cell_type": "markdown",
   "metadata": {},
   "source": [
    "##### 6. Combinations k1_k2_k3_k4_k5_k6"
   ]
  },
  {
   "cell_type": "code",
   "execution_count": 21,
   "metadata": {},
   "outputs": [],
   "source": [
    "n_k = 6\n",
    "n_op = 5\n",
    "\n",
    "six_elements = list(combinations_with_replacement(kernels, n_k))\n",
    "five_operations = list(combinations_with_replacement(operations, n_op))\n",
    "combinations_six = [f\"{elem1} {op1} {elem2} {op2} {elem3} {op3} {elem4} {op4} {elem5} {op5} {elem6}\" for elem1, elem2, elem3, elem4, elem5, elem6 in six_elements for op1, op2, op3, op4, op5 in five_operations]"
   ]
  },
  {
   "cell_type": "markdown",
   "metadata": {},
   "source": [
    "6.1 Validate kernel k1_k2_k3_k4_k5_k6"
   ]
  },
  {
   "cell_type": "code",
   "execution_count": 22,
   "metadata": {},
   "outputs": [
    {
     "name": "stderr",
     "output_type": "stream",
     "text": [
      "Progress: 100%|██████████| 5544/5544 [00:00<00:00, 13449.94kernels/s]\n"
     ]
    }
   ],
   "source": [
    "results_six = Parallel(n_jobs=-1)(delayed(process_kernel_combination)(element, X) for element in tqdm(combinations_six, desc='Progress', unit='kernels', position=0, leave=True))"
   ]
  },
  {
   "cell_type": "code",
   "execution_count": 23,
   "metadata": {},
   "outputs": [],
   "source": [
    "kernels_k.extend([result for result in results_six if result is not None])"
   ]
  },
  {
   "cell_type": "markdown",
   "metadata": {},
   "source": [
    "##### 7. Combinations k1_k2_k3_k4_k5_k6_k7"
   ]
  },
  {
   "cell_type": "code",
   "execution_count": 24,
   "metadata": {},
   "outputs": [],
   "source": [
    "n_k = 7\n",
    "n_op = 6\n",
    "\n",
    "seven_elements = list(combinations_with_replacement(kernels, n_k))\n",
    "six_operations = list(combinations_with_replacement(operations, n_op))\n",
    "combinations_seven = [f\"{elem1} {op1} {elem2} {op2} {elem3} {op3} {elem4} {op4} {elem5} {op5} {elem6} {op6} {elem7}\" for elem1, elem2, elem3, elem4, elem5, elem6, elem7 in seven_elements for op1, op2, op3, op4, op5, op6 in six_operations]"
   ]
  },
  {
   "cell_type": "markdown",
   "metadata": {},
   "source": [
    "7.1 Validate kernel k1_k2_k3_k4_k5_k6_k7"
   ]
  },
  {
   "cell_type": "code",
   "execution_count": 25,
   "metadata": {},
   "outputs": [
    {
     "name": "stderr",
     "output_type": "stream",
     "text": [
      "Progress: 100%|██████████| 12012/12012 [00:00<00:00, 13825.91kernels/s]\n"
     ]
    }
   ],
   "source": [
    "results_seven = Parallel(n_jobs=-1)(delayed(process_kernel_combination)(element, X) for element in tqdm(combinations_seven, desc='Progress', unit='kernels', position=0, leave=True))"
   ]
  },
  {
   "cell_type": "code",
   "execution_count": 26,
   "metadata": {},
   "outputs": [],
   "source": [
    "kernels_k.extend([result for result in results_seven if result is not None])"
   ]
  },
  {
   "cell_type": "markdown",
   "metadata": {},
   "source": [
    "### Generate File with all kernel combinations"
   ]
  },
  {
   "cell_type": "code",
   "execution_count": 27,
   "metadata": {},
   "outputs": [],
   "source": [
    "substituted_kernels_k = substitute_constant_kernel(kernels_k)"
   ]
  },
  {
   "cell_type": "code",
   "execution_count": 28,
   "metadata": {},
   "outputs": [],
   "source": [
    "file_name = f\"dataset/dataset_possibilities/constant_series_kernel_possibilities.csv\""
   ]
  },
  {
   "cell_type": "code",
   "execution_count": 29,
   "metadata": {},
   "outputs": [
    {
     "name": "stdout",
     "output_type": "stream",
     "text": [
      "Data saved in <_io.TextIOWrapper name='dataset/dataset_possibilities/constant_series_kernel_possibilities.csv' mode='w' encoding='cp1252'>\n"
     ]
    }
   ],
   "source": [
    "with open(file_name, 'w', newline='') as file_csv:\n",
    "    writer = csv.writer(file_csv)\n",
    "    writer.writerow(['kernel_str'])\n",
    "    for kernel in kernels_k:\n",
    "        writer.writerow([kernel])\n",
    "\n",
    "print(f\"Data saved in {file_csv}\")"
   ]
  }
 ],
 "metadata": {
  "kernelspec": {
   "display_name": "Python 3",
   "language": "python",
   "name": "python3"
  },
  "language_info": {
   "codemirror_mode": {
    "name": "ipython",
    "version": 3
   },
   "file_extension": ".py",
   "mimetype": "text/x-python",
   "name": "python",
   "nbconvert_exporter": "python",
   "pygments_lexer": "ipython3",
   "version": "3.12.3"
  }
 },
 "nbformat": 4,
 "nbformat_minor": 2
}
