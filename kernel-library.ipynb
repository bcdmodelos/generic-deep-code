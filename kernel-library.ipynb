{
 "cells": [
  {
   "cell_type": "markdown",
   "metadata": {},
   "source": [
    "## Code to generate kernel performance metrics"
   ]
  },
  {
   "cell_type": "code",
   "execution_count": 1,
   "metadata": {},
   "outputs": [],
   "source": [
    "import re\n",
    "import csv\n",
    "import numpy as np\n",
    "import pandas as pd\n",
    "from tqdm import tqdm\n",
    "from sklearn.metrics import r2_score\n",
    "from joblib import Parallel, delayed\n",
    "from itertools import combinations_with_replacement\n",
    "from sklearn.gaussian_process import GaussianProcessRegressor\n",
    "from sklearn.gaussian_process.kernels import ConstantKernel, DotProduct, ExpSineSquared, Matern, RBF, RationalQuadratic, WhiteKernel"
   ]
  },
  {
   "cell_type": "markdown",
   "metadata": {},
   "source": [
    "### Dataset"
   ]
  },
  {
   "cell_type": "code",
   "execution_count": 2,
   "metadata": {},
   "outputs": [],
   "source": [
    "data = f\"dataset/dataset-essential/oscillating_series.csv\"\n",
    "df = pd.read_csv(data)\n",
    "X = df['value'].to_numpy()"
   ]
  },
  {
   "cell_type": "code",
   "execution_count": 3,
   "metadata": {},
   "outputs": [],
   "source": [
    "data_total = np.array(df.value.values)\n",
    "data = data_total.reshape(-1, 1)\n",
    "\n",
    "CRdata = data/1000\n",
    "CRdata  = np.ravel(CRdata)"
   ]
  },
  {
   "cell_type": "code",
   "execution_count": 4,
   "metadata": {},
   "outputs": [],
   "source": [
    "trainL = len(CRdata) - 20\n",
    "\n",
    "t = np.linspace(1,len(CRdata),len(CRdata))\n",
    "t = t.reshape(len(t),1)\n",
    "t = np.atleast_2d(t)\n",
    "\n",
    "t_tr  = t[0:trainL]\n",
    "t_test = t[trainL:]\n",
    "\n",
    "CR_tr = CRdata[0:trainL]\n",
    "CR_test = CRdata[trainL:]"
   ]
  },
  {
   "cell_type": "markdown",
   "metadata": {},
   "source": [
    "### Functions"
   ]
  },
  {
   "cell_type": "code",
   "execution_count": 5,
   "metadata": {},
   "outputs": [],
   "source": [
    "def Metrics_to_performance(CR_tr, t_tr, CR_test, t_test, kernel_str):\n",
    "\n",
    "  t = np.append(t_tr, t_test).reshape(-1,1)\n",
    "  CRdata = np.append(CR_tr, CR_test)\n",
    "\n",
    "  kernel = kernel_str\n",
    "\n",
    "  model  = GaussianProcessRegressor(kernel=kernel, n_restarts_optimizer=20, alpha = 10, normalize_y=False)\n",
    "\n",
    "  model.fit(t_tr, CR_tr)\n",
    "\n",
    "  params = model.kernel_.get_params()\n",
    "\n",
    "  R2_tr  = model.score(t_tr, CR_tr)\n",
    "  R2     = model.score(t, CRdata)\n",
    "  R2_test = model.score(t_test, CR_test)\n",
    "\n",
    "  CRpred_tr, sigma_tr = model.predict(t_tr, return_std=True)\n",
    "  CRpred_test, sigma_test = model.predict(t_test, return_std=True)\n",
    "  CRpred, sigma   = model.predict(t, return_std=True)\n",
    "\n",
    "  learned_kernel = model.kernel_\n",
    "  mse = np.mean(((CRpred_tr-CR_tr)*1000)**2)\n",
    "  std = np.sqrt(mse)\n",
    "  r_training = R2_tr\n",
    "  r_whole_interval = R2\n",
    "  r_test = R2_test\n",
    "\n",
    "  return kernel_str, learned_kernel, mse, std, r_training, r_whole_interval, r_test"
   ]
  },
  {
   "cell_type": "code",
   "execution_count": 6,
   "metadata": {},
   "outputs": [],
   "source": [
    "def evaluate_kernel(kernel_str):\n",
    "  try:\n",
    "    result = Metrics_to_performance(CR_tr, t_tr, CR_test, t_test, kernel_str)\n",
    "    return result\n",
    "  except Exception as e:\n",
    "    print(f\"Error evaluating kernel {kernel_str}: {e}\")\n",
    "    return None"
   ]
  },
  {
   "cell_type": "markdown",
   "metadata": {},
   "source": [
    "### Metrics to evaluate performance"
   ]
  },
  {
   "cell_type": "code",
   "execution_count": 7,
   "metadata": {},
   "outputs": [],
   "source": [
    "df_kernels_data = f\"dataset/dataset_possibilities/oscillating_series_kernel_possibilities.csv\"\n",
    "\n",
    "data_k = pd.read_csv(df_kernels_data)\n",
    "\n",
    "kernels = [kernel[0] for kernel in data_k.values]\n",
    "\n",
    "kernels_data = [eval(kernel_str) for kernel_str in kernels]"
   ]
  },
  {
   "cell_type": "code",
   "execution_count": null,
   "metadata": {},
   "outputs": [],
   "source": [
    "batch_size = 1000\n",
    "num_batches = len(kernels_data) // batch_size + 1\n",
    "kernels_metrics = []\n",
    "num_cores = -1\n",
    "\n",
    "for i in range(num_batches):\n",
    "  start_idx = i * batch_size\n",
    "  end_idx = min((i + 1) * batch_size, len(kernels_data))\n",
    "  kernels_batch = kernels_data[start_idx:end_idx]\n",
    "\n",
    "  kernels_metrics_batch = Parallel(n_jobs=num_cores)(delayed(evaluate_kernel)(kernel_str) for kernel_str in tqdm(kernels_batch, desc=f\"Evaluating batch {i+1}/{num_batches}\"))\n",
    "\n",
    "  kernels_metrics.extend(kernels_metrics_batch)"
   ]
  },
  {
   "cell_type": "code",
   "execution_count": 9,
   "metadata": {},
   "outputs": [],
   "source": [
    "file_name = f\"dataset/dataset_library/oscillating_series_library.csv\""
   ]
  },
  {
   "cell_type": "code",
   "execution_count": null,
   "metadata": {},
   "outputs": [],
   "source": [
    "with open(file_name, 'w', newline='') as file_csv:\n",
    "    writer = csv.writer(file_csv)\n",
    "    writer.writerow(['kernel_str', 'learned_kernel', 'mse', 'std', 'R2_tr', 'R2', 'R2_test'])\n",
    "    for row in kernels_metrics:\n",
    "        if row is not None:\n",
    "            formatted_row = [row[0], row[1], '{:.15f}'.format(row[2]), '{:.15f}'.format(row[3]), '{:.15f}'.format(row[4]), '{:.15f}'.format(row[5]), '{:.15f}'.format(row[6])]\n",
    "            writer.writerow(formatted_row)\n",
    "\n",
    "print(f\"Data saved in {file_csv}\")"
   ]
  }
 ],
 "metadata": {
  "kernelspec": {
   "display_name": "Python 3",
   "language": "python",
   "name": "python3"
  },
  "language_info": {
   "codemirror_mode": {
    "name": "ipython",
    "version": 3
   },
   "file_extension": ".py",
   "mimetype": "text/x-python",
   "name": "python",
   "nbconvert_exporter": "python",
   "pygments_lexer": "ipython3",
   "version": "3.12.3"
  }
 },
 "nbformat": 4,
 "nbformat_minor": 2
}
